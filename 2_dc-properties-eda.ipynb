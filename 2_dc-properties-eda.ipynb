{
 "cells": [
  {
   "cell_type": "markdown",
   "id": "78cfdcfc",
   "metadata": {},
   "source": [
    "# D.C. Properties - Exploratory Data Analysis\n",
    "\n",
    "This notebook analyzes the DC Properties dataset and answers some fundamental questions about the use case. The selected columns are:\n",
    "\n",
    " * **NUM_UNITS** - Number of Units\n",
    " * **ROOMS** - Number of Rooms\n",
    " * **BEDRM** - Number of Bedrooms\n",
    " * **BATHRM** - Number of Full Bathrooms\n",
    " * **HF_BATHRM** - Number of Half Bathrooms (no bathtub or shower)\n",
    " * **KITCHENS** - Number of kitchens\n",
    " * **STORIES** - Number of stories in primary dwelling\n",
    " * **HEAT** - Heating\n",
    " * **AC** - Cooling\n",
    " * **FIREPLACES** - Number of fireplaces\n",
    " * **ROOF** - Roof type\n",
    " * **EXTWALL** - Exterior wall\n",
    " * **AYB** - The earliest time the main portion of the building was built\n",
    " * **EYB** - The year an improvement was built more recent than actual year built\n",
    " * **SALEDATE** - Date of most recent sale\n",
    " * **CNDTN** - Condition\n",
    " * **GBA** - Gross building area in square feet\n",
    " * **LANDAREA** - Land area of property in square feet\n",
    " * **WARD** - Ward (District is divided into eight wards, each with approximately 75,000 residents)\n",
    " * **X** - The longitude\n",
    " * **Y** - The latitude\n",
    " * **PRICE** - Price of most recent sale"
   ]
  },
  {
   "cell_type": "markdown",
   "id": "268cc662",
   "metadata": {},
   "source": [
    "## Imports and Config setting"
   ]
  },
  {
   "cell_type": "code",
   "execution_count": null,
   "id": "ec40cab3",
   "metadata": {},
   "outputs": [],
   "source": [
    "import pandas as pd\n",
    "import numpy as np\n",
    "import seaborn as sns\n",
    "import matplotlib.pyplot as plt\n",
    "import math"
   ]
  },
  {
   "cell_type": "code",
   "execution_count": null,
   "id": "b3f49d40",
   "metadata": {},
   "outputs": [],
   "source": [
    "pd.set_option('display.max_columns', None)\n",
    "sns.set(rc={'figure.figsize':(11.7,8.27)})"
   ]
  },
  {
   "cell_type": "markdown",
   "id": "9432e42c",
   "metadata": {},
   "source": [
    "## Data loading"
   ]
  },
  {
   "cell_type": "markdown",
   "id": "6fb5a2cd",
   "metadata": {},
   "source": [
    "Define a series of parameters that will be used in the notebook"
   ]
  },
  {
   "cell_type": "code",
   "execution_count": null,
   "id": "f744b5ba",
   "metadata": {},
   "outputs": [],
   "source": [
    "# Params\n",
    "input_data_path = '2_dc_properties_processed_zipped.csv'"
   ]
  },
  {
   "cell_type": "markdown",
   "id": "59cae5b5",
   "metadata": {},
   "source": [
    "Load the data file and give a preview of it"
   ]
  },
  {
   "cell_type": "code",
   "execution_count": null,
   "id": "11fefd3e",
   "metadata": {
    "scrolled": false
   },
   "outputs": [],
   "source": [
    "# Load the data and preview it\n"
   ]
  },
  {
   "cell_type": "markdown",
   "id": "f6e690f4",
   "metadata": {},
   "source": [
    "## Exploratory Data Analysis"
   ]
  },
  {
   "cell_type": "markdown",
   "id": "88c740a9",
   "metadata": {},
   "source": [
    "The data contains the historical sale records of properties in DC. There are more than 100k rows and 22 selected columns. \n",
    "\n",
    "There are a series of questions we would like to answer about out dataset. Let's get started!\n",
    "\n",
    "First, for those that are not familiar this is what the wards in DC look like.  "
   ]
  },
  {
   "cell_type": "code",
   "execution_count": null,
   "id": "dcbafeda",
   "metadata": {},
   "outputs": [],
   "source": [
    "from IPython.display import Image\n",
    "from IPython.core.display import HTML \n",
    "\n",
    "Image(url= \"https://images.squarespace-cdn.com/content/v1/56e6cad12fe13155d5243018/1467308071684-I84GAR58UWK3D180PL74/image-asset.jpeg?format=300w\", width=300, height=300)"
   ]
  },
  {
   "cell_type": "markdown",
   "id": "56100b4e",
   "metadata": {},
   "source": [
    "First, how many wards are there considered in the dataset?. What is the distribution of properties sold in each of them?"
   ]
  },
  {
   "cell_type": "code",
   "execution_count": null,
   "id": "81c7ae6c",
   "metadata": {},
   "outputs": [],
   "source": [
    "# Plot a bar chart with the number of properties sold in each ward\n"
   ]
  },
  {
   "cell_type": "markdown",
   "id": "68cff719",
   "metadata": {},
   "source": [
    "This gives us an idea of what area is 'hotter' in terms of number of properties sold, however, we would like to identify what are the most aforable areas and the most expensive ones."
   ]
  },
  {
   "cell_type": "code",
   "execution_count": null,
   "id": "358c9481",
   "metadata": {},
   "outputs": [],
   "source": [
    "# Plot a chart that would be representative of the prices in each ward\n"
   ]
  },
  {
   "cell_type": "markdown",
   "id": "ba9ce47d",
   "metadata": {},
   "source": [
    "If we compare the highest property sold in each of the wards, against their average we can see there are some clear outliers. Let's go further into the prices of the properties being sold. \n",
    "\n",
    "How would we take a glimpse on the price variable over time? "
   ]
  },
  {
   "cell_type": "code",
   "execution_count": null,
   "id": "8b7741f5",
   "metadata": {},
   "outputs": [],
   "source": [
    "# Plot a chart that would give us a general idea on the prices over time\n"
   ]
  },
  {
   "cell_type": "code",
   "execution_count": null,
   "id": "756e7e24",
   "metadata": {},
   "outputs": [],
   "source": [
    "# You might want to describe the PRICE variable\n"
   ]
  },
  {
   "cell_type": "markdown",
   "id": "b14821e0",
   "metadata": {},
   "source": [
    "Let's remove the properties sold before the 1990 and ignore the ones with an astronomical price. \n",
    "\n",
    "Now, it might be easier to look at how the price per ward looks like. "
   ]
  },
  {
   "cell_type": "code",
   "execution_count": null,
   "id": "db4b592c",
   "metadata": {},
   "outputs": [],
   "source": [
    "# Filter data_df by YR_SALE and PRICE\n"
   ]
  },
  {
   "cell_type": "code",
   "execution_count": null,
   "id": "b6c2abd7",
   "metadata": {},
   "outputs": [],
   "source": [
    "# Plot again the price per ward\n"
   ]
  },
  {
   "cell_type": "markdown",
   "id": "d6f4958c",
   "metadata": {},
   "source": [
    "It seems like location is a really important factor for the price. We would like to know what is more important, being NORTH/SOUTH or WEST/EAST of downtown."
   ]
  },
  {
   "cell_type": "code",
   "execution_count": null,
   "id": "f339d40d",
   "metadata": {},
   "outputs": [],
   "source": [
    "# Look at the correlation between X, Y, and PRICE\n"
   ]
  },
  {
   "cell_type": "markdown",
   "id": "fe9f3aa3",
   "metadata": {},
   "source": [
    "Now that we have a clear picture of the impact of the location in the price. We would like to know what is more important for the price in a property between the number of kitchens, bathrooms, bedrooms, and total number of rooms."
   ]
  },
  {
   "cell_type": "code",
   "execution_count": null,
   "id": "19fb976b",
   "metadata": {},
   "outputs": [],
   "source": [
    "# Look at ROOMS against PRICE\n"
   ]
  },
  {
   "cell_type": "code",
   "execution_count": null,
   "id": "2cbd7793",
   "metadata": {},
   "outputs": [],
   "source": [
    "# Look at KITCHENS against PRICE\n"
   ]
  },
  {
   "cell_type": "code",
   "execution_count": null,
   "id": "4b923af9",
   "metadata": {},
   "outputs": [],
   "source": [
    "# Look at BEDRM against PRICE\n"
   ]
  },
  {
   "cell_type": "code",
   "execution_count": null,
   "id": "bab2cdbd",
   "metadata": {},
   "outputs": [],
   "source": [
    "# Look at BATHRM against PRICE\n"
   ]
  },
  {
   "cell_type": "code",
   "execution_count": null,
   "id": "334af49d",
   "metadata": {},
   "outputs": [],
   "source": [
    "# Any other way to look at it?\n"
   ]
  },
  {
   "cell_type": "markdown",
   "id": "8a67ed76",
   "metadata": {},
   "source": [
    "Now we have a good idea of which locations have a higher impact on the price, and what is one of the most important features to determine the price on a property. Well done!"
   ]
  },
  {
   "cell_type": "code",
   "execution_count": null,
   "id": "5e0137d5",
   "metadata": {},
   "outputs": [],
   "source": []
  },
  {
   "cell_type": "code",
   "execution_count": null,
   "id": "5c3d88f1",
   "metadata": {},
   "outputs": [],
   "source": []
  },
  {
   "cell_type": "code",
   "execution_count": null,
   "id": "779dc0f7",
   "metadata": {},
   "outputs": [],
   "source": []
  },
  {
   "cell_type": "code",
   "execution_count": null,
   "id": "4b49bdff",
   "metadata": {},
   "outputs": [],
   "source": []
  }
 ],
 "metadata": {
  "kernelspec": {
   "display_name": "monolith-interview",
   "language": "python",
   "name": "monolith-interview"
  },
  "language_info": {
   "codemirror_mode": {
    "name": "ipython",
    "version": 3
   },
   "file_extension": ".py",
   "mimetype": "text/x-python",
   "name": "python",
   "nbconvert_exporter": "python",
   "pygments_lexer": "ipython3",
   "version": "3.7.5"
  }
 },
 "nbformat": 4,
 "nbformat_minor": 5
}
