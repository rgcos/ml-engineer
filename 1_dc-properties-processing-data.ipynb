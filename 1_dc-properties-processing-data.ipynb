{
 "cells": [
  {
   "cell_type": "markdown",
   "id": "6badfce8",
   "metadata": {},
   "source": [
    "# D.C. Properties - Preprocessing\n",
    "\n",
    "This notebook pre-process the DC Properties dataset to extract the desired columns and prepare some of its datatypes. The selected columns are:\n",
    "\n",
    " * **NUM_UNITS** - Number of Units\n",
    " * **ROOMS** - Number of Rooms\n",
    " * **BEDRM** - Number of Bedrooms\n",
    " * **BATHRM** - Number of Full Bathrooms\n",
    " * **HF_BATHRM** - Number of Half Bathrooms (no bathtub or shower)\n",
    " * **KITCHENS** - Number of kitchens\n",
    " * **STORIES** - Number of stories in primary dwelling\n",
    " * **HEAT** - Heating\n",
    " * **AC** - Cooling\n",
    " * **FIREPLACES** - Number of fireplaces\n",
    " * **ROOF** - Roof type\n",
    " * **EXTWALL** - Exterior wall\n",
    " * **AYB** - The earliest time the main portion of the building was built\n",
    " * **EYB** - The year an improvement was built more recent than actual year built\n",
    " * **YR_SALE** - Year of most recent sale\n",
    " * **CNDTN** - Condition\n",
    " * **GBA** - Gross building area in square feet\n",
    " * **LANDAREA** - Land area of property in square feet\n",
    " * **WARD** - Ward (District is divided into eight wards, each with approximately 75,000 residents)\n",
    " * **X** - The longitude\n",
    " * **Y** - The latitude\n",
    " * **PRICE** - Price of most recent sale"
   ]
  },
  {
   "cell_type": "markdown",
   "id": "800e03d8",
   "metadata": {},
   "source": [
    "## Imports and Config setting"
   ]
  },
  {
   "cell_type": "code",
   "execution_count": null,
   "id": "ec40cab3",
   "metadata": {},
   "outputs": [],
   "source": [
    "import pandas as pd\n",
    "import numpy as np\n",
    "import seaborn as sns\n",
    "import matplotlib.pyplot as plt"
   ]
  },
  {
   "cell_type": "code",
   "execution_count": null,
   "id": "b3f49d40",
   "metadata": {},
   "outputs": [],
   "source": [
    "pd.set_option('display.max_columns', None)"
   ]
  },
  {
   "cell_type": "markdown",
   "id": "df1e4b43",
   "metadata": {},
   "source": [
    "## Data loading and Selection"
   ]
  },
  {
   "cell_type": "markdown",
   "id": "0b216a44",
   "metadata": {},
   "source": [
    "Define a series of parameters that will be used in the notebook"
   ]
  },
  {
   "cell_type": "code",
   "execution_count": null,
   "id": "899ce65e",
   "metadata": {},
   "outputs": [],
   "source": [
    "# Params\n",
    "input_data_path = '1_dc_properties_fixed_zipped.csv'\n",
    "output_data_path = '2_dc_properties_processed_zipped.csv'\n",
    "selected_cols = ['NUM_UNITS','ROOMS','BEDRM','BATHRM','HF_BATHRM','KITCHENS','STORIES','HEAT','AC','FIREPLACES','ROOF','EXTWALL','AYB','EYB','YR_SALE','CNDTN','GBA','LANDAREA','WARD', 'X', 'Y', 'PRICE']\n"
   ]
  },
  {
   "cell_type": "markdown",
   "id": "3ad7030b",
   "metadata": {},
   "source": [
    "Load the data and give a preview of it"
   ]
  },
  {
   "cell_type": "code",
   "execution_count": null,
   "id": "11fefd3e",
   "metadata": {
    "scrolled": false
   },
   "outputs": [],
   "source": [
    "# Load and preview the data\n"
   ]
  },
  {
   "cell_type": "markdown",
   "id": "bc3f15e4",
   "metadata": {},
   "source": [
    "Use the parameter of selected_cols to remove the undesired columns from out data."
   ]
  },
  {
   "cell_type": "code",
   "execution_count": null,
   "id": "325375e0",
   "metadata": {},
   "outputs": [],
   "source": [
    "# Filter the columns in the data\n"
   ]
  },
  {
   "cell_type": "markdown",
   "id": "9541c25f",
   "metadata": {},
   "source": [
    "## Drop some nulls"
   ]
  },
  {
   "cell_type": "markdown",
   "id": "8ed03819",
   "metadata": {},
   "source": [
    "The original raw data has been slightly cleaned and prepared. However, there are still some nulls that we might want to fix.\n",
    "\n",
    "*Note: For now, you can ignore the nulls in PRICE and YR_SALE*"
   ]
  },
  {
   "cell_type": "code",
   "execution_count": null,
   "id": "2faf99df",
   "metadata": {},
   "outputs": [],
   "source": [
    "# Check the nulls per column\n"
   ]
  },
  {
   "cell_type": "code",
   "execution_count": null,
   "id": "f207d642",
   "metadata": {},
   "outputs": [],
   "source": [
    "# We drop the few properties that have some nulls in the following columns, they are not important\n"
   ]
  },
  {
   "cell_type": "code",
   "execution_count": null,
   "id": "23e4a5f2",
   "metadata": {},
   "outputs": [],
   "source": [
    "# Check the nulls again\n"
   ]
  },
  {
   "cell_type": "markdown",
   "id": "eef4735b",
   "metadata": {},
   "source": [
    "## Pre-processing"
   ]
  },
  {
   "cell_type": "markdown",
   "id": "c69dd53d",
   "metadata": {},
   "source": [
    "One of the most important variables that we will be focusing on later is WARD. Let's take a look to it and see the different values it takes."
   ]
  },
  {
   "cell_type": "code",
   "execution_count": null,
   "id": "24bfaf27",
   "metadata": {},
   "outputs": [],
   "source": [
    "# Look at the unique values of WARD\n"
   ]
  },
  {
   "cell_type": "markdown",
   "id": "e4a9376a",
   "metadata": {},
   "source": [
    "At the moment the values of WARD are string, we would like to transform them to int. How would you do that?"
   ]
  },
  {
   "cell_type": "code",
   "execution_count": null,
   "id": "23e28562",
   "metadata": {},
   "outputs": [],
   "source": [
    "# Transform the WARD values\n"
   ]
  },
  {
   "cell_type": "markdown",
   "id": "8cfab7b8",
   "metadata": {},
   "source": [
    "## Save Data"
   ]
  },
  {
   "cell_type": "markdown",
   "id": "17acbf96",
   "metadata": {},
   "source": [
    "Finally, let's save out results so we can continue using them in the next notebook"
   ]
  },
  {
   "cell_type": "code",
   "execution_count": null,
   "id": "8306da78",
   "metadata": {},
   "outputs": [],
   "source": [
    "data_df.reset_index(drop=True).to_csv(output_data_path, compression='zip')"
   ]
  },
  {
   "cell_type": "code",
   "execution_count": null,
   "id": "5c3d88f1",
   "metadata": {},
   "outputs": [],
   "source": []
  },
  {
   "cell_type": "code",
   "execution_count": null,
   "id": "779dc0f7",
   "metadata": {},
   "outputs": [],
   "source": []
  },
  {
   "cell_type": "code",
   "execution_count": null,
   "id": "4b49bdff",
   "metadata": {},
   "outputs": [],
   "source": []
  }
 ],
 "metadata": {
  "kernelspec": {
   "display_name": "monolith-interview",
   "language": "python",
   "name": "monolith-interview"
  },
  "language_info": {
   "codemirror_mode": {
    "name": "ipython",
    "version": 3
   },
   "file_extension": ".py",
   "mimetype": "text/x-python",
   "name": "python",
   "nbconvert_exporter": "python",
   "pygments_lexer": "ipython3",
   "version": "3.7.5"
  }
 },
 "nbformat": 4,
 "nbformat_minor": 5
}
