{
 "cells": [
  {
   "cell_type": "markdown",
   "id": "6badfce8",
   "metadata": {},
   "source": [
    "# D.C. Properties - Fixing the data\n",
    "\n",
    "This notebook fixes the most important columns of the DC Properties dataset and selects the most revelant columns."
   ]
  },
  {
   "cell_type": "markdown",
   "id": "800e03d8",
   "metadata": {},
   "source": [
    "## Imports and Config setting"
   ]
  },
  {
   "cell_type": "code",
   "execution_count": null,
   "id": "ec40cab3",
   "metadata": {},
   "outputs": [],
   "source": [
    "import pandas as pd\n",
    "import numpy as np\n",
    "import seaborn as sns\n",
    "import matplotlib.pyplot as plt"
   ]
  },
  {
   "cell_type": "code",
   "execution_count": null,
   "id": "b3f49d40",
   "metadata": {},
   "outputs": [],
   "source": [
    "pd.set_option('display.max_columns', None)"
   ]
  },
  {
   "cell_type": "markdown",
   "id": "df1e4b43",
   "metadata": {},
   "source": [
    "## Data loading and Selection"
   ]
  },
  {
   "cell_type": "markdown",
   "id": "3303b454",
   "metadata": {},
   "source": [
    "Define a series of parameters that will be used in the notebook"
   ]
  },
  {
   "cell_type": "code",
   "execution_count": null,
   "id": "899ce65e",
   "metadata": {},
   "outputs": [],
   "source": [
    "# Params\n",
    "input_data_path = '0_dc_properties_raw_zipped.csv'\n",
    "output_data_path = '1_dc_properties_fixed_zipped.csv'\n"
   ]
  },
  {
   "cell_type": "markdown",
   "id": "b8b575dd",
   "metadata": {},
   "source": [
    "Load the data file and give a preview of it"
   ]
  },
  {
   "cell_type": "code",
   "execution_count": null,
   "id": "11fefd3e",
   "metadata": {
    "scrolled": false
   },
   "outputs": [],
   "source": [
    "# Read the data and preview it\n",
    "pd.read_csv(input_data_path, low_memory=False, index_col=0, compression='zip')\n"
   ]
  },
  {
   "cell_type": "markdown",
   "id": "9541c25f",
   "metadata": {},
   "source": [
    "## Drop some nulls"
   ]
  },
  {
   "cell_type": "markdown",
   "id": "837fc6ee",
   "metadata": {},
   "source": [
    "One of the most important aspects of this dataset is the condition of the building. Later on we will try to predict such condition, therefore we want to ignore those rows that don't have a value for it"
   ]
  },
  {
   "cell_type": "code",
   "execution_count": null,
   "id": "8508a94e",
   "metadata": {},
   "outputs": [],
   "source": [
    "# We don't want data that we don't know the condition\n"
   ]
  },
  {
   "cell_type": "code",
   "execution_count": null,
   "id": "3889a0ba",
   "metadata": {},
   "outputs": [],
   "source": [
    "# Check the number of nulls in the data\n"
   ]
  },
  {
   "cell_type": "markdown",
   "id": "eef4735b",
   "metadata": {},
   "source": [
    "## Pre-processing"
   ]
  },
  {
   "cell_type": "markdown",
   "id": "7f1591d6",
   "metadata": {},
   "source": [
    "Originally the data had the SALEDATE as a timestamp, usually it's kind of painful to work with timestamps and for the purposes of this exercise we just want to know the year of sale"
   ]
  },
  {
   "cell_type": "code",
   "execution_count": null,
   "id": "4a4c4374",
   "metadata": {},
   "outputs": [],
   "source": [
    "# SALEDATE conversion to extract the year and name it YR_SALE\n"
   ]
  },
  {
   "cell_type": "markdown",
   "id": "f648022b",
   "metadata": {},
   "source": [
    "The other relevant value that we already looked at is condition. Let's take a look at the count of each value of it."
   ]
  },
  {
   "cell_type": "code",
   "execution_count": null,
   "id": "a061a726",
   "metadata": {
    "scrolled": true
   },
   "outputs": [],
   "source": [
    "# Look at the distribution of the values\n"
   ]
  },
  {
   "cell_type": "markdown",
   "id": "fa3e983a",
   "metadata": {},
   "source": [
    "Given that is not clear what default means (in compare to the other values), and that is present in such a small number of rows, let's go ahead a delete those rows"
   ]
  },
  {
   "cell_type": "code",
   "execution_count": null,
   "id": "cd5dd92d",
   "metadata": {},
   "outputs": [],
   "source": [
    "# Remove Default\n"
   ]
  },
  {
   "cell_type": "markdown",
   "id": "a2cd2090",
   "metadata": {},
   "source": [
    "Finally, it will be kind of painful to work with a string value in our target variable. Therefore, let's encode it to a numerical value. \n",
    "\n",
    "Note: The order of the encoding is important"
   ]
  },
  {
   "cell_type": "code",
   "execution_count": null,
   "id": "8e46e9c0",
   "metadata": {},
   "outputs": [],
   "source": [
    "# Encode the CNDTN values\n"
   ]
  },
  {
   "cell_type": "markdown",
   "id": "8cfab7b8",
   "metadata": {},
   "source": [
    "## Save Data"
   ]
  },
  {
   "cell_type": "markdown",
   "id": "29d8f17e",
   "metadata": {},
   "source": [
    "Finally, let's save out results so we can continue using them in the next notebook"
   ]
  },
  {
   "cell_type": "code",
   "execution_count": null,
   "id": "8306da78",
   "metadata": {},
   "outputs": [],
   "source": [
    "data_df.reset_index(drop=True).to_csv(output_data_path, compression='zip')"
   ]
  },
  {
   "cell_type": "code",
   "execution_count": null,
   "id": "5c3d88f1",
   "metadata": {},
   "outputs": [],
   "source": []
  },
  {
   "cell_type": "code",
   "execution_count": null,
   "id": "779dc0f7",
   "metadata": {},
   "outputs": [],
   "source": []
  },
  {
   "cell_type": "code",
   "execution_count": null,
   "id": "4b49bdff",
   "metadata": {},
   "outputs": [],
   "source": []
  }
 ],
 "metadata": {
  "kernelspec": {
   "display_name": "monolith-interview",
   "language": "python",
   "name": "monolith-interview"
  },
  "language_info": {
   "codemirror_mode": {
    "name": "ipython",
    "version": 3
   },
   "file_extension": ".py",
   "mimetype": "text/x-python",
   "name": "python",
   "nbconvert_exporter": "python",
   "pygments_lexer": "ipython3",
   "version": "3.7.5"
  }
 },
 "nbformat": 4,
 "nbformat_minor": 5
}
