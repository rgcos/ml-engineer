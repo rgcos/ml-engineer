{
 "cells": [
  {
   "cell_type": "markdown",
   "id": "78cfdcfc",
   "metadata": {},
   "source": [
    "# D.C. Properties - Condition Prediction"
   ]
  },
  {
   "cell_type": "markdown",
   "id": "b928662c",
   "metadata": {},
   "source": [
    "This notebook loads a subset of the DC Properties dataset to build an classification model that would predict the condition of a building. The columns on the data are:\n",
    "\n",
    " * **NUM_UNITS** - Number of Units\n",
    " * **ROOMS** - Number of Rooms\n",
    " * **BEDRM** - Number of Bedrooms\n",
    " * **BATHRM** - Number of Full Bathrooms\n",
    " * **HF_BATHRM** - Number of Half Bathrooms (no bathtub or shower)\n",
    " * **KITCHENS** - Number of kitchens\n",
    " * **STORIES** - Number of stories in primary dwelling\n",
    " * **HEAT** - Heating\n",
    " * **AC** - Cooling\n",
    " * **FIREPLACES** - Number of fireplaces\n",
    " * **ROOF** - Roof type\n",
    " * **EXTWALL** - Exterior wall\n",
    " * **AYB** - The earliest time the main portion of the building was built\n",
    " * **EYB** - The year an improvement was built more recent than actual year built\n",
    " * **YR_SALE** - Date of most recent sale\n",
    " * **CNDTN** - Condition\n",
    " * **GBA** - Gross building area in square feet\n",
    " * **LANDAREA** - Land area of property in square feet\n",
    " * **WARD** - Ward (District is divided into eight wards, each with approximately 75,000 residents)\n",
    " * **PRICE** - Price of most recent sale"
   ]
  },
  {
   "cell_type": "markdown",
   "id": "268cc662",
   "metadata": {},
   "source": [
    "## Imports and Config setting"
   ]
  },
  {
   "cell_type": "code",
   "execution_count": null,
   "id": "ec40cab3",
   "metadata": {},
   "outputs": [],
   "source": [
    "import pandas as pd\n",
    "import numpy as np\n",
    "import seaborn as sns\n",
    "import matplotlib.pyplot as plt\n",
    "import math"
   ]
  },
  {
   "cell_type": "code",
   "execution_count": null,
   "id": "b3f49d40",
   "metadata": {},
   "outputs": [],
   "source": [
    "pd.set_option('display.max_columns', None)"
   ]
  },
  {
   "cell_type": "markdown",
   "id": "9432e42c",
   "metadata": {},
   "source": [
    "## Data loading and Selection"
   ]
  },
  {
   "cell_type": "markdown",
   "id": "cac688fd",
   "metadata": {},
   "source": [
    "Define a series of parameters that will be used in the notebook"
   ]
  },
  {
   "cell_type": "code",
   "execution_count": null,
   "id": "f744b5ba",
   "metadata": {},
   "outputs": [],
   "source": [
    "# Params\n",
    "input_data_path = '2_dc_properties_processed_zipped.csv'\n",
    "numerical_cols = ['NUM_UNITS', 'ROOMS', 'BEDRM', 'BATHRM', 'HF_BATHRM', 'KITCHENS',\n",
    "                   'STORIES', 'FIREPLACES', 'AYB', 'EYB', 'GBA', 'LANDAREA', 'X', 'Y', 'PRICE', 'YR_SALE']\n",
    "categorical_cols = ['HEAT', 'AC', 'ROOF', 'EXTWALL', 'CNDTN', 'WARD']"
   ]
  },
  {
   "cell_type": "markdown",
   "id": "cf788faa",
   "metadata": {},
   "source": [
    "Load the data and give a preview of it"
   ]
  },
  {
   "cell_type": "code",
   "execution_count": null,
   "id": "11fefd3e",
   "metadata": {
    "scrolled": false
   },
   "outputs": [],
   "source": [
    "# Load the data and preview it\n"
   ]
  },
  {
   "cell_type": "markdown",
   "id": "acc6c241",
   "metadata": {},
   "source": [
    "## Split data"
   ]
  },
  {
   "cell_type": "markdown",
   "id": "9f1d8a8d",
   "metadata": {},
   "source": [
    "It is very important how the data for training and testing purposes is selected. In this case, we want to keep things simple and we want to 2/3 for training and 1/3 for testing. How would you do it?"
   ]
  },
  {
   "cell_type": "code",
   "execution_count": null,
   "id": "f7d305ae",
   "metadata": {},
   "outputs": [],
   "source": [
    "# Split data to train and test\n"
   ]
  },
  {
   "cell_type": "code",
   "execution_count": null,
   "id": "1b1acd68",
   "metadata": {},
   "outputs": [],
   "source": [
    "# Preview the training features\n"
   ]
  },
  {
   "cell_type": "code",
   "execution_count": null,
   "id": "43941606",
   "metadata": {},
   "outputs": [],
   "source": [
    "# Preview the training labels\n"
   ]
  },
  {
   "cell_type": "code",
   "execution_count": null,
   "id": "ece780e6",
   "metadata": {},
   "outputs": [],
   "source": [
    "# Preview the test features\n"
   ]
  },
  {
   "cell_type": "code",
   "execution_count": null,
   "id": "daa82077",
   "metadata": {},
   "outputs": [],
   "source": [
    "# Preview the test labels\n"
   ]
  },
  {
   "cell_type": "markdown",
   "id": "6992455b",
   "metadata": {},
   "source": [
    "## Fix nulls"
   ]
  },
  {
   "cell_type": "markdown",
   "id": "8a0b6768",
   "metadata": {},
   "source": [
    "Our data still has a vew nulls, let's take a look at those and see what we can do about it."
   ]
  },
  {
   "cell_type": "code",
   "execution_count": null,
   "id": "f03c2bc3",
   "metadata": {},
   "outputs": [],
   "source": [
    "# Check the number of nulls\n"
   ]
  },
  {
   "cell_type": "markdown",
   "id": "7499e2f9",
   "metadata": {},
   "source": [
    "There are multiple ways to fix missing data, here we want to keep things simple so we will use their mean values."
   ]
  },
  {
   "cell_type": "code",
   "execution_count": null,
   "id": "d6d576f2",
   "metadata": {},
   "outputs": [],
   "source": [
    "# Impute the YR_SALE and PRICE missing values with their means in the train data\n"
   ]
  },
  {
   "cell_type": "code",
   "execution_count": null,
   "id": "c272d225",
   "metadata": {
    "scrolled": false
   },
   "outputs": [],
   "source": [
    "# Impute the YR_SALE and PRICE missing values with their means in the test data\n"
   ]
  },
  {
   "cell_type": "markdown",
   "id": "40c8f96a",
   "metadata": {},
   "source": [
    "## Encode categorical variables"
   ]
  },
  {
   "cell_type": "markdown",
   "id": "5fa33be6",
   "metadata": {},
   "source": [
    "There are two main ways to encode categorical values in your data. Either you can use a One Hot Encoder or a Labeling Encoding. Let's go ahead and decide which strategy we want to use and transform the categorical variables to a numeric value"
   ]
  },
  {
   "cell_type": "markdown",
   "id": "dc1054e5",
   "metadata": {},
   "source": [
    "### One Hot Encoder"
   ]
  },
  {
   "cell_type": "code",
   "execution_count": null,
   "id": "9bb8dc82",
   "metadata": {},
   "outputs": [],
   "source": [
    "# One hot encoding of the training data\n"
   ]
  },
  {
   "cell_type": "code",
   "execution_count": null,
   "id": "d5c8759a",
   "metadata": {},
   "outputs": [],
   "source": [
    "# One hot encoding of the test data\n"
   ]
  },
  {
   "cell_type": "markdown",
   "id": "faf7762b",
   "metadata": {},
   "source": [
    "### Ordinal encoding"
   ]
  },
  {
   "cell_type": "code",
   "execution_count": null,
   "id": "3f8b847b",
   "metadata": {},
   "outputs": [],
   "source": [
    "# Ordinal encoding of the training data\n"
   ]
  },
  {
   "cell_type": "code",
   "execution_count": null,
   "id": "9a666bbb",
   "metadata": {},
   "outputs": [],
   "source": [
    "# Ordinal encoding of the test data\n"
   ]
  },
  {
   "cell_type": "markdown",
   "id": "fa65a8ad",
   "metadata": {},
   "source": [
    "## Train model"
   ]
  },
  {
   "cell_type": "markdown",
   "id": "3f9d3b74",
   "metadata": {},
   "source": [
    "There are countless training algorithms that we could use. Let's take a second to think which one/s would you think would be a good fit for this case and why. "
   ]
  },
  {
   "cell_type": "code",
   "execution_count": null,
   "id": "a0f91e0e",
   "metadata": {},
   "outputs": [],
   "source": [
    "# Train a simple model\n"
   ]
  },
  {
   "cell_type": "markdown",
   "id": "3417e876",
   "metadata": {},
   "source": [
    "## Test model"
   ]
  },
  {
   "cell_type": "markdown",
   "id": "238fd7a1",
   "metadata": {},
   "source": [
    "In order to evaluate the performance of the model we want to obtain the predictions on the unseen data (test set)."
   ]
  },
  {
   "cell_type": "code",
   "execution_count": null,
   "id": "4fdcdb21",
   "metadata": {},
   "outputs": [],
   "source": [
    "# Predict the labels on the test set\n"
   ]
  },
  {
   "cell_type": "markdown",
   "id": "43698bb5",
   "metadata": {},
   "source": [
    "## Evaluate model"
   ]
  },
  {
   "cell_type": "markdown",
   "id": "6b602c8e",
   "metadata": {},
   "source": [
    "Finally, we can get the performance of the model using the predictions and the real labels of the test set"
   ]
  },
  {
   "cell_type": "code",
   "execution_count": null,
   "id": "b12490ab",
   "metadata": {},
   "outputs": [],
   "source": [
    "# Find the classification metrics on the test set\n"
   ]
  },
  {
   "cell_type": "code",
   "execution_count": null,
   "id": "c4fdc37e",
   "metadata": {},
   "outputs": [],
   "source": []
  },
  {
   "cell_type": "code",
   "execution_count": null,
   "id": "5c3d88f1",
   "metadata": {},
   "outputs": [],
   "source": []
  },
  {
   "cell_type": "code",
   "execution_count": null,
   "id": "779dc0f7",
   "metadata": {},
   "outputs": [],
   "source": []
  },
  {
   "cell_type": "code",
   "execution_count": null,
   "id": "4b49bdff",
   "metadata": {},
   "outputs": [],
   "source": []
  }
 ],
 "metadata": {
  "kernelspec": {
   "display_name": "monolith-interview",
   "language": "python",
   "name": "monolith-interview"
  },
  "language_info": {
   "codemirror_mode": {
    "name": "ipython",
    "version": 3
   },
   "file_extension": ".py",
   "mimetype": "text/x-python",
   "name": "python",
   "nbconvert_exporter": "python",
   "pygments_lexer": "ipython3",
   "version": "3.7.5"
  }
 },
 "nbformat": 4,
 "nbformat_minor": 5
}
